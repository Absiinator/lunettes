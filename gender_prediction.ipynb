{
 "cells": [
  {
   "cell_type": "code",
   "execution_count": 1,
   "metadata": {},
   "outputs": [],
   "source": [
    "from tensorflow.keras.preprocessing.image import ImageDataGenerator\n",
    "from tensorflow.keras.optimizers import Adam\n",
    "from tensorflow.keras.preprocessing.image import img_to_array\n",
    "from tensorflow.keras.utils import to_categorical, plot_model\n",
    "from tensorflow.keras.models import Sequential\n",
    "from tensorflow.keras.layers import BatchNormalization, Conv2D, MaxPooling2D, Activation, Flatten, Dropout, Dense\n",
    "from tensorflow.keras import backend as K\n",
    "from sklearn.model_selection import train_test_split\n",
    "import matplotlib.pyplot as plt\n",
    "import numpy as np\n",
    "import random\n",
    "import cv2\n",
    "import os\n",
    "import glob\n"
   ]
  },
  {
   "cell_type": "code",
   "execution_count": 2,
   "metadata": {},
   "outputs": [],
   "source": [
    "# initial parameters\n",
    "epochs = 100\n",
    "lr = 1e-4\n",
    "batch_size = 64\n",
    "img_dims = (128,128,3)\n",
    "\n",
    "data = []\n",
    "labels = []\n",
    "\n",
    "# load image files from the dataset\n",
    "image_files = [f for f in glob.glob(r'gender_dataset_face' + \"/**/*\", recursive=True) if not os.path.isdir(f)]\n",
    "random.shuffle(image_files)\n"
   ]
  },
  {
   "cell_type": "code",
   "execution_count": 3,
   "metadata": {},
   "outputs": [],
   "source": [
    "# converting images to arrays and labelling the categories\n",
    "for img in image_files:\n",
    "\n",
    "    image = cv2.imread(img)\n",
    "    \n",
    "    image = cv2.resize(image, (img_dims[0],img_dims[1]))\n",
    "    image = img_to_array(image)\n",
    "        \n",
    "    data.append(image)\n",
    "\n",
    "    label = img.split(os.path.sep)[-2] # C:\\Files\\gender_dataset_face\\woman\\face_1162.jpg\n",
    "    if label == \"woman\":\n",
    "        label = 1\n",
    "    else:\n",
    "        label = 0\n",
    "        \n",
    "    labels.append([label]) # [[1], [0], [0], ...]\n"
   ]
  },
  {
   "cell_type": "code",
   "execution_count": 4,
   "metadata": {},
   "outputs": [],
   "source": [
    "# pre-processing\n",
    "data = np.array(data, dtype=\"float\") / 255.0\n",
    "labels = np.array(labels)\n",
    "\n",
    "# split dataset for training and validation\n",
    "(trainX, testX, trainY, testY) = train_test_split(data, labels, test_size=0.15,\n",
    "                                                  random_state=42)\n",
    "\n",
    "trainY = to_categorical(trainY, num_classes=2) # [[1, 0], [0, 1], [0, 1], ...]\n",
    "testY = to_categorical(testY, num_classes=2)\n"
   ]
  },
  {
   "cell_type": "code",
   "execution_count": 5,
   "metadata": {},
   "outputs": [],
   "source": [
    "# augmenting datset \n",
    "aug = ImageDataGenerator(rotation_range=25, width_shift_range=0.1,\n",
    "                         height_shift_range=0.1, shear_range=0.2, zoom_range=0.3,\n",
    "                         horizontal_flip=True,vertical_flip=True, fill_mode=\"nearest\")\n"
   ]
  },
  {
   "cell_type": "code",
   "execution_count": 6,
   "metadata": {},
   "outputs": [],
   "source": [
    "# define model\n",
    "def build(width, height, depth, classes):\n",
    "    model = Sequential()\n",
    "    inputShape = (height, width, depth)\n",
    "    chanDim = -1\n",
    "\n",
    "    if K.image_data_format() == \"channels_first\": #Returns a string, either 'channels_first' or 'channels_last'\n",
    "        inputShape = (depth, height, width)\n",
    "        chanDim = 1\n",
    "    \n",
    "    # The axis that should be normalized, after a Conv2D layer with data_format=\"channels_first\", \n",
    "    # set axis=1 in BatchNormalization.\n",
    "\n",
    "    model.add(Conv2D(16, (3,3), padding=\"same\", input_shape=inputShape))\n",
    "    model.add(Activation(\"relu\"))\n",
    "    model.add(BatchNormalization(axis=chanDim))\n",
    "    model.add(MaxPooling2D(pool_size=(3,3)))\n",
    "\n",
    "    model.add(Conv2D(16, (3,3), padding=\"same\"))\n",
    "    model.add(Activation(\"relu\"))\n",
    "    model.add(BatchNormalization(axis=chanDim))\n",
    "\n",
    "\n",
    "    model.add(Conv2D(32, (3,3), padding=\"same\"))\n",
    "    model.add(Activation(\"relu\"))\n",
    "    model.add(BatchNormalization(axis=chanDim))\n",
    "    model.add(MaxPooling2D(pool_size=(3,3)))\n",
    "\n",
    "    model.add(Conv2D(32, (3,3), padding=\"same\"))\n",
    "    model.add(Activation(\"relu\"))\n",
    "    model.add(BatchNormalization(axis=chanDim))\n",
    "    \n",
    "\n",
    "    model.add(Conv2D(64, (3,3), padding=\"same\"))\n",
    "    model.add(Activation(\"relu\"))\n",
    "    model.add(BatchNormalization(axis=chanDim))\n",
    "\n",
    "    model.add(Conv2D(64, (3,3), padding=\"same\"))\n",
    "    model.add(Activation(\"relu\"))\n",
    "    model.add(BatchNormalization(axis=chanDim))\n",
    "    model.add(MaxPooling2D(pool_size=(2,2)))\n",
    "\n",
    "    model.add(Flatten())\n",
    "    \n",
    "    model.add(Dense(512))\n",
    "    model.add(Activation(\"relu\"))\n",
    "    model.add(BatchNormalization())\n",
    "    model.add(Dropout(0.1))\n",
    "\n",
    "    model.add(Dense(512))\n",
    "    model.add(Activation(\"relu\"))\n",
    "    model.add(BatchNormalization())\n",
    "    model.add(Dropout(0.1))\n",
    "\n",
    "    model.add(Dense(classes))\n",
    "    model.add(Activation(\"sigmoid\"))\n",
    "\n",
    "    return model\n"
   ]
  },
  {
   "cell_type": "code",
   "execution_count": 7,
   "metadata": {},
   "outputs": [],
   "source": [
    "# define model\n",
    "def build(width, height, depth, classes):\n",
    "    model = Sequential()\n",
    "    inputShape = (height, width, depth)\n",
    "    chanDim = -1\n",
    "\n",
    "    if K.image_data_format() == \"channels_first\": #Returns a string, either 'channels_first' or 'channels_last'\n",
    "        inputShape = (depth, height, width)\n",
    "        chanDim = 1\n",
    "    \n",
    "    # The axis that should be normalized, after a Conv2D layer with data_format=\"channels_first\", \n",
    "    # set axis=1 in BatchNormalization.\n",
    "\n",
    "    model.add(Conv2D(32, (5,5), padding=\"same\", input_shape=inputShape))\n",
    "    model.add(Activation(\"relu\"))\n",
    "    model.add(BatchNormalization(axis=chanDim))\n",
    "    model.add(MaxPooling2D(pool_size=(3,2)))\n",
    "\n",
    "    model.add(Conv2D(64, (3,3), padding=\"same\"))\n",
    "    model.add(Activation(\"relu\"))\n",
    "    model.add(BatchNormalization(axis=chanDim))\n",
    "    model.add(MaxPooling2D(pool_size=(3,2)))\n",
    "    \n",
    "    model.add(Conv2D(128, (3,3), padding=\"same\"))\n",
    "    model.add(Activation(\"relu\"))\n",
    "    model.add(BatchNormalization(axis=chanDim))\n",
    "    model.add(MaxPooling2D(pool_size=(3,2)))\n",
    "\n",
    "\n",
    "    model.add(Flatten())\n",
    "    \n",
    "    model.add(Dense(512))\n",
    "    model.add(Activation(\"relu\"))\n",
    "    model.add(BatchNormalization())\n",
    "    model.add(Dropout(0.2))\n",
    "\n",
    "    model.add(Dense(512))\n",
    "    model.add(Activation(\"relu\"))\n",
    "    model.add(BatchNormalization())\n",
    "    model.add(Dropout(0.2)) \n",
    "\n",
    "    model.add(Dense(classes))\n",
    "    model.add(Activation(\"sigmoid\"))\n",
    "\n",
    "    return model\n"
   ]
  },
  {
   "cell_type": "code",
   "execution_count": 8,
   "metadata": {},
   "outputs": [
    {
     "name": "stdout",
     "output_type": "stream",
     "text": [
      "Metal device set to: Apple M1 Pro\n",
      "\n",
      "systemMemory: 16.00 GB\n",
      "maxCacheSize: 5.33 GB\n",
      "\n"
     ]
    },
    {
     "name": "stderr",
     "output_type": "stream",
     "text": [
      "2022-05-12 00:30:08.195796: I tensorflow/core/common_runtime/pluggable_device/pluggable_device_factory.cc:305] Could not identify NUMA node of platform GPU ID 0, defaulting to 0. Your kernel may not have been built with NUMA support.\n",
      "2022-05-12 00:30:08.195904: I tensorflow/core/common_runtime/pluggable_device/pluggable_device_factory.cc:271] Created TensorFlow device (/job:localhost/replica:0/task:0/device:GPU:0 with 0 MB memory) -> physical PluggableDevice (device: 0, name: METAL, pci bus id: <undefined>)\n"
     ]
    }
   ],
   "source": [
    "# build model\n",
    "model = build(width=img_dims[0], height=img_dims[1], depth=img_dims[2],\n",
    "                            classes=2)\n",
    "\n",
    "# compile the model\n",
    "opt = Adam(learning_rate=lr, decay=lr/epochs)\n",
    "model.compile(loss=\"binary_crossentropy\", optimizer=opt, metrics=[\"accuracy\", 'binary_crossentropy'])\n"
   ]
  },
  {
   "cell_type": "code",
   "execution_count": 9,
   "metadata": {},
   "outputs": [
    {
     "name": "stdout",
     "output_type": "stream",
     "text": [
      "Model: \"sequential\"\n",
      "_________________________________________________________________\n",
      " Layer (type)                Output Shape              Param #   \n",
      "=================================================================\n",
      " conv2d (Conv2D)             (None, 128, 128, 32)      2432      \n",
      "                                                                 \n",
      " activation (Activation)     (None, 128, 128, 32)      0         \n",
      "                                                                 \n",
      " batch_normalization (BatchN  (None, 128, 128, 32)     128       \n",
      " ormalization)                                                   \n",
      "                                                                 \n",
      " max_pooling2d (MaxPooling2D  (None, 42, 64, 32)       0         \n",
      " )                                                               \n",
      "                                                                 \n",
      " conv2d_1 (Conv2D)           (None, 42, 64, 64)        18496     \n",
      "                                                                 \n",
      " activation_1 (Activation)   (None, 42, 64, 64)        0         \n",
      "                                                                 \n",
      " batch_normalization_1 (Batc  (None, 42, 64, 64)       256       \n",
      " hNormalization)                                                 \n",
      "                                                                 \n",
      " max_pooling2d_1 (MaxPooling  (None, 14, 32, 64)       0         \n",
      " 2D)                                                             \n",
      "                                                                 \n",
      " conv2d_2 (Conv2D)           (None, 14, 32, 128)       73856     \n",
      "                                                                 \n",
      " activation_2 (Activation)   (None, 14, 32, 128)       0         \n",
      "                                                                 \n",
      " batch_normalization_2 (Batc  (None, 14, 32, 128)      512       \n",
      " hNormalization)                                                 \n",
      "                                                                 \n",
      " max_pooling2d_2 (MaxPooling  (None, 4, 16, 128)       0         \n",
      " 2D)                                                             \n",
      "                                                                 \n",
      " flatten (Flatten)           (None, 8192)              0         \n",
      "                                                                 \n",
      " dense (Dense)               (None, 512)               4194816   \n",
      "                                                                 \n",
      " activation_3 (Activation)   (None, 512)               0         \n",
      "                                                                 \n",
      " batch_normalization_3 (Batc  (None, 512)              2048      \n",
      " hNormalization)                                                 \n",
      "                                                                 \n",
      " dropout (Dropout)           (None, 512)               0         \n",
      "                                                                 \n",
      " dense_1 (Dense)             (None, 512)               262656    \n",
      "                                                                 \n",
      " activation_4 (Activation)   (None, 512)               0         \n",
      "                                                                 \n",
      " batch_normalization_4 (Batc  (None, 512)              2048      \n",
      " hNormalization)                                                 \n",
      "                                                                 \n",
      " dropout_1 (Dropout)         (None, 512)               0         \n",
      "                                                                 \n",
      " dense_2 (Dense)             (None, 2)                 1026      \n",
      "                                                                 \n",
      " activation_5 (Activation)   (None, 2)                 0         \n",
      "                                                                 \n",
      "=================================================================\n",
      "Total params: 4,558,274\n",
      "Trainable params: 4,555,778\n",
      "Non-trainable params: 2,496\n",
      "_________________________________________________________________\n"
     ]
    }
   ],
   "source": [
    "model.summary()"
   ]
  },
  {
   "cell_type": "code",
   "execution_count": 10,
   "metadata": {},
   "outputs": [
    {
     "name": "stdout",
     "output_type": "stream",
     "text": [
      "Epoch 1/100\n"
     ]
    },
    {
     "name": "stderr",
     "output_type": "stream",
     "text": [
      "2022-05-12 00:30:08.656602: W tensorflow/core/platform/profile_utils/cpu_utils.cc:128] Failed to get CPU frequency: 0 Hz\n",
      "2022-05-12 00:30:09.090459: I tensorflow/core/grappler/optimizers/custom_graph_optimizer_registry.cc:113] Plugin optimizer for device_type GPU is enabled.\n"
     ]
    },
    {
     "name": "stdout",
     "output_type": "stream",
     "text": [
      "30/30 [==============================] - ETA: 0s - loss: 0.7298 - accuracy: 0.6556 - binary_crossentropy: 0.7298"
     ]
    },
    {
     "name": "stderr",
     "output_type": "stream",
     "text": [
      "2022-05-12 00:30:12.750868: I tensorflow/core/grappler/optimizers/custom_graph_optimizer_registry.cc:113] Plugin optimizer for device_type GPU is enabled.\n"
     ]
    },
    {
     "name": "stdout",
     "output_type": "stream",
     "text": [
      "30/30 [==============================] - 4s 113ms/step - loss: 0.7298 - accuracy: 0.6556 - binary_crossentropy: 0.7298 - val_loss: 0.6978 - val_accuracy: 0.4957 - val_binary_crossentropy: 0.6978\n",
      "Epoch 2/100\n",
      "30/30 [==============================] - 3s 99ms/step - loss: 0.6071 - accuracy: 0.7331 - binary_crossentropy: 0.6071 - val_loss: 0.7210 - val_accuracy: 0.4957 - val_binary_crossentropy: 0.7210\n",
      "Epoch 3/100\n",
      "30/30 [==============================] - 3s 100ms/step - loss: 0.5525 - accuracy: 0.7563 - binary_crossentropy: 0.5525 - val_loss: 0.7148 - val_accuracy: 0.4957 - val_binary_crossentropy: 0.7148\n",
      "Epoch 4/100\n",
      "30/30 [==============================] - 3s 99ms/step - loss: 0.5000 - accuracy: 0.7758 - binary_crossentropy: 0.5000 - val_loss: 0.6879 - val_accuracy: 0.4957 - val_binary_crossentropy: 0.6879\n",
      "Epoch 5/100\n",
      "30/30 [==============================] - 3s 99ms/step - loss: 0.4800 - accuracy: 0.7932 - binary_crossentropy: 0.4800 - val_loss: 0.6921 - val_accuracy: 0.5389 - val_binary_crossentropy: 0.6921\n",
      "Epoch 6/100\n",
      "30/30 [==============================] - 3s 99ms/step - loss: 0.4320 - accuracy: 0.8180 - binary_crossentropy: 0.4320 - val_loss: 0.6766 - val_accuracy: 0.5994 - val_binary_crossentropy: 0.6766\n",
      "Epoch 7/100\n",
      "30/30 [==============================] - 3s 97ms/step - loss: 0.4168 - accuracy: 0.8207 - binary_crossentropy: 0.4168 - val_loss: 0.6653 - val_accuracy: 0.6052 - val_binary_crossentropy: 0.6653\n",
      "Epoch 8/100\n",
      "30/30 [==============================] - 3s 97ms/step - loss: 0.4127 - accuracy: 0.8291 - binary_crossentropy: 0.4127 - val_loss: 0.6734 - val_accuracy: 0.6282 - val_binary_crossentropy: 0.6734\n",
      "Epoch 9/100\n",
      "30/30 [==============================] - 3s 96ms/step - loss: 0.3707 - accuracy: 0.8423 - binary_crossentropy: 0.3707 - val_loss: 0.6590 - val_accuracy: 0.6628 - val_binary_crossentropy: 0.6590\n",
      "Epoch 10/100\n",
      "30/30 [==============================] - 3s 96ms/step - loss: 0.3710 - accuracy: 0.8523 - binary_crossentropy: 0.3710 - val_loss: 0.5813 - val_accuracy: 0.7464 - val_binary_crossentropy: 0.5813\n",
      "Epoch 11/100\n",
      "30/30 [==============================] - 3s 97ms/step - loss: 0.3602 - accuracy: 0.8476 - binary_crossentropy: 0.3602 - val_loss: 0.5168 - val_accuracy: 0.7637 - val_binary_crossentropy: 0.5168\n",
      "Epoch 12/100\n",
      "30/30 [==============================] - 3s 97ms/step - loss: 0.3304 - accuracy: 0.8708 - binary_crossentropy: 0.3304 - val_loss: 0.4770 - val_accuracy: 0.7810 - val_binary_crossentropy: 0.4770\n",
      "Epoch 13/100\n",
      "30/30 [==============================] - 3s 97ms/step - loss: 0.3297 - accuracy: 0.8645 - binary_crossentropy: 0.3297 - val_loss: 0.4145 - val_accuracy: 0.7925 - val_binary_crossentropy: 0.4145\n",
      "Epoch 14/100\n",
      "30/30 [==============================] - 3s 97ms/step - loss: 0.3126 - accuracy: 0.8671 - binary_crossentropy: 0.3126 - val_loss: 0.3873 - val_accuracy: 0.8012 - val_binary_crossentropy: 0.3873\n",
      "Epoch 15/100\n",
      "30/30 [==============================] - 3s 98ms/step - loss: 0.2952 - accuracy: 0.8750 - binary_crossentropy: 0.2952 - val_loss: 0.3578 - val_accuracy: 0.8415 - val_binary_crossentropy: 0.3578\n",
      "Epoch 16/100\n",
      "30/30 [==============================] - 3s 97ms/step - loss: 0.3042 - accuracy: 0.8739 - binary_crossentropy: 0.3042 - val_loss: 0.3648 - val_accuracy: 0.8300 - val_binary_crossentropy: 0.3648\n",
      "Epoch 17/100\n",
      "30/30 [==============================] - 3s 98ms/step - loss: 0.2790 - accuracy: 0.8929 - binary_crossentropy: 0.2790 - val_loss: 0.9961 - val_accuracy: 0.6744 - val_binary_crossentropy: 0.9961\n",
      "Epoch 18/100\n",
      "30/30 [==============================] - 3s 98ms/step - loss: 0.2793 - accuracy: 0.8919 - binary_crossentropy: 0.2793 - val_loss: 0.2513 - val_accuracy: 0.8963 - val_binary_crossentropy: 0.2513\n",
      "Epoch 19/100\n",
      "30/30 [==============================] - 3s 97ms/step - loss: 0.2717 - accuracy: 0.8993 - binary_crossentropy: 0.2717 - val_loss: 0.3293 - val_accuracy: 0.8732 - val_binary_crossentropy: 0.3293\n",
      "Epoch 20/100\n",
      "30/30 [==============================] - 3s 96ms/step - loss: 0.2609 - accuracy: 0.8940 - binary_crossentropy: 0.2609 - val_loss: 0.3689 - val_accuracy: 0.8530 - val_binary_crossentropy: 0.3689\n",
      "Epoch 21/100\n",
      "30/30 [==============================] - 3s 98ms/step - loss: 0.2455 - accuracy: 0.8945 - binary_crossentropy: 0.2455 - val_loss: 0.2379 - val_accuracy: 0.9107 - val_binary_crossentropy: 0.2379\n",
      "Epoch 22/100\n",
      "30/30 [==============================] - 3s 97ms/step - loss: 0.2590 - accuracy: 0.8998 - binary_crossentropy: 0.2590 - val_loss: 0.2232 - val_accuracy: 0.8963 - val_binary_crossentropy: 0.2232\n",
      "Epoch 23/100\n",
      "30/30 [==============================] - 3s 97ms/step - loss: 0.2356 - accuracy: 0.9024 - binary_crossentropy: 0.2356 - val_loss: 0.6170 - val_accuracy: 0.7695 - val_binary_crossentropy: 0.6170\n",
      "Epoch 24/100\n",
      "30/30 [==============================] - 3s 97ms/step - loss: 0.2540 - accuracy: 0.8987 - binary_crossentropy: 0.2540 - val_loss: 0.4230 - val_accuracy: 0.8271 - val_binary_crossentropy: 0.4230\n",
      "Epoch 25/100\n",
      "30/30 [==============================] - 3s 97ms/step - loss: 0.2227 - accuracy: 0.9209 - binary_crossentropy: 0.2227 - val_loss: 0.4862 - val_accuracy: 0.8069 - val_binary_crossentropy: 0.4862\n",
      "Epoch 26/100\n",
      "30/30 [==============================] - 3s 102ms/step - loss: 0.2298 - accuracy: 0.9130 - binary_crossentropy: 0.2298 - val_loss: 0.4140 - val_accuracy: 0.8184 - val_binary_crossentropy: 0.4140\n",
      "Epoch 27/100\n",
      "30/30 [==============================] - 3s 97ms/step - loss: 0.2258 - accuracy: 0.9088 - binary_crossentropy: 0.2258 - val_loss: 0.2128 - val_accuracy: 0.9222 - val_binary_crossentropy: 0.2128\n",
      "Epoch 28/100\n",
      "30/30 [==============================] - 3s 97ms/step - loss: 0.2334 - accuracy: 0.9040 - binary_crossentropy: 0.2334 - val_loss: 0.1699 - val_accuracy: 0.9424 - val_binary_crossentropy: 0.1699\n",
      "Epoch 29/100\n",
      "30/30 [==============================] - 3s 97ms/step - loss: 0.2118 - accuracy: 0.9124 - binary_crossentropy: 0.2118 - val_loss: 0.2504 - val_accuracy: 0.9107 - val_binary_crossentropy: 0.2504\n",
      "Epoch 30/100\n",
      "30/30 [==============================] - 3s 97ms/step - loss: 0.2207 - accuracy: 0.9114 - binary_crossentropy: 0.2207 - val_loss: 0.3450 - val_accuracy: 0.8646 - val_binary_crossentropy: 0.3450\n",
      "Epoch 31/100\n",
      "30/30 [==============================] - 3s 98ms/step - loss: 0.2141 - accuracy: 0.9093 - binary_crossentropy: 0.2141 - val_loss: 0.1438 - val_accuracy: 0.9510 - val_binary_crossentropy: 0.1438\n",
      "Epoch 32/100\n",
      "30/30 [==============================] - 3s 97ms/step - loss: 0.2020 - accuracy: 0.9172 - binary_crossentropy: 0.2020 - val_loss: 0.1734 - val_accuracy: 0.9366 - val_binary_crossentropy: 0.1734\n",
      "Epoch 33/100\n",
      "30/30 [==============================] - 3s 98ms/step - loss: 0.2051 - accuracy: 0.9161 - binary_crossentropy: 0.2051 - val_loss: 0.1476 - val_accuracy: 0.9337 - val_binary_crossentropy: 0.1476\n",
      "Epoch 34/100\n",
      "30/30 [==============================] - 3s 96ms/step - loss: 0.1895 - accuracy: 0.9246 - binary_crossentropy: 0.1895 - val_loss: 0.1933 - val_accuracy: 0.9395 - val_binary_crossentropy: 0.1933\n",
      "Epoch 35/100\n",
      "30/30 [==============================] - 3s 97ms/step - loss: 0.1755 - accuracy: 0.9357 - binary_crossentropy: 0.1755 - val_loss: 0.2438 - val_accuracy: 0.9135 - val_binary_crossentropy: 0.2438\n",
      "Epoch 36/100\n",
      "30/30 [==============================] - 3s 98ms/step - loss: 0.1662 - accuracy: 0.9362 - binary_crossentropy: 0.1662 - val_loss: 0.1359 - val_accuracy: 0.9510 - val_binary_crossentropy: 0.1359\n",
      "Epoch 37/100\n",
      "30/30 [==============================] - 3s 97ms/step - loss: 0.2093 - accuracy: 0.9193 - binary_crossentropy: 0.2093 - val_loss: 0.1863 - val_accuracy: 0.9135 - val_binary_crossentropy: 0.1863\n",
      "Epoch 38/100\n",
      "30/30 [==============================] - 3s 97ms/step - loss: 0.1922 - accuracy: 0.9235 - binary_crossentropy: 0.1922 - val_loss: 0.4295 - val_accuracy: 0.8501 - val_binary_crossentropy: 0.4295\n",
      "Epoch 39/100\n",
      "30/30 [==============================] - 3s 97ms/step - loss: 0.1857 - accuracy: 0.9320 - binary_crossentropy: 0.1857 - val_loss: 0.1881 - val_accuracy: 0.9280 - val_binary_crossentropy: 0.1881\n",
      "Epoch 40/100\n",
      "30/30 [==============================] - 3s 98ms/step - loss: 0.1959 - accuracy: 0.9219 - binary_crossentropy: 0.1959 - val_loss: 0.1525 - val_accuracy: 0.9337 - val_binary_crossentropy: 0.1525\n",
      "Epoch 41/100\n",
      "30/30 [==============================] - 3s 97ms/step - loss: 0.1746 - accuracy: 0.9304 - binary_crossentropy: 0.1746 - val_loss: 0.1982 - val_accuracy: 0.9251 - val_binary_crossentropy: 0.1982\n",
      "Epoch 42/100\n",
      "30/30 [==============================] - 3s 98ms/step - loss: 0.1737 - accuracy: 0.9267 - binary_crossentropy: 0.1737 - val_loss: 0.1888 - val_accuracy: 0.9395 - val_binary_crossentropy: 0.1888\n",
      "Epoch 43/100\n",
      "30/30 [==============================] - 3s 98ms/step - loss: 0.1729 - accuracy: 0.9325 - binary_crossentropy: 0.1729 - val_loss: 0.5978 - val_accuracy: 0.8012 - val_binary_crossentropy: 0.5978\n",
      "Epoch 44/100\n",
      "30/30 [==============================] - 3s 98ms/step - loss: 0.1577 - accuracy: 0.9425 - binary_crossentropy: 0.1577 - val_loss: 0.1336 - val_accuracy: 0.9568 - val_binary_crossentropy: 0.1336\n",
      "Epoch 45/100\n",
      "30/30 [==============================] - 3s 96ms/step - loss: 0.1434 - accuracy: 0.9504 - binary_crossentropy: 0.1434 - val_loss: 0.2032 - val_accuracy: 0.9193 - val_binary_crossentropy: 0.2032\n",
      "Epoch 46/100\n",
      "30/30 [==============================] - 3s 98ms/step - loss: 0.1604 - accuracy: 0.9420 - binary_crossentropy: 0.1604 - val_loss: 0.1443 - val_accuracy: 0.9481 - val_binary_crossentropy: 0.1443\n",
      "Epoch 47/100\n",
      "30/30 [==============================] - 3s 97ms/step - loss: 0.1373 - accuracy: 0.9541 - binary_crossentropy: 0.1373 - val_loss: 0.2556 - val_accuracy: 0.9107 - val_binary_crossentropy: 0.2556\n",
      "Epoch 48/100\n",
      "30/30 [==============================] - 3s 98ms/step - loss: 0.1660 - accuracy: 0.9325 - binary_crossentropy: 0.1660 - val_loss: 0.1245 - val_accuracy: 0.9424 - val_binary_crossentropy: 0.1245\n",
      "Epoch 49/100\n",
      "30/30 [==============================] - 3s 98ms/step - loss: 0.1588 - accuracy: 0.9314 - binary_crossentropy: 0.1588 - val_loss: 0.1215 - val_accuracy: 0.9539 - val_binary_crossentropy: 0.1215\n",
      "Epoch 50/100\n",
      "30/30 [==============================] - 3s 98ms/step - loss: 0.1624 - accuracy: 0.9367 - binary_crossentropy: 0.1624 - val_loss: 0.1594 - val_accuracy: 0.9452 - val_binary_crossentropy: 0.1594\n",
      "Epoch 51/100\n",
      "30/30 [==============================] - 3s 97ms/step - loss: 0.1798 - accuracy: 0.9283 - binary_crossentropy: 0.1798 - val_loss: 0.1376 - val_accuracy: 0.9424 - val_binary_crossentropy: 0.1376\n",
      "Epoch 52/100\n",
      "30/30 [==============================] - 3s 99ms/step - loss: 0.1423 - accuracy: 0.9478 - binary_crossentropy: 0.1423 - val_loss: 0.1203 - val_accuracy: 0.9452 - val_binary_crossentropy: 0.1203\n",
      "Epoch 53/100\n",
      "30/30 [==============================] - 3s 101ms/step - loss: 0.1326 - accuracy: 0.9525 - binary_crossentropy: 0.1326 - val_loss: 0.1513 - val_accuracy: 0.9222 - val_binary_crossentropy: 0.1513\n",
      "Epoch 54/100\n",
      "30/30 [==============================] - 3s 100ms/step - loss: 0.1417 - accuracy: 0.9494 - binary_crossentropy: 0.1417 - val_loss: 0.1034 - val_accuracy: 0.9597 - val_binary_crossentropy: 0.1034\n",
      "Epoch 55/100\n",
      "30/30 [==============================] - 3s 102ms/step - loss: 0.1326 - accuracy: 0.9469 - binary_crossentropy: 0.1326 - val_loss: 0.1017 - val_accuracy: 0.9625 - val_binary_crossentropy: 0.1017\n",
      "Epoch 56/100\n",
      "30/30 [==============================] - 3s 99ms/step - loss: 0.1281 - accuracy: 0.9483 - binary_crossentropy: 0.1281 - val_loss: 0.0824 - val_accuracy: 0.9712 - val_binary_crossentropy: 0.0824\n",
      "Epoch 57/100\n",
      "30/30 [==============================] - 3s 99ms/step - loss: 0.1328 - accuracy: 0.9483 - binary_crossentropy: 0.1328 - val_loss: 0.0786 - val_accuracy: 0.9741 - val_binary_crossentropy: 0.0786\n",
      "Epoch 58/100\n",
      "30/30 [==============================] - 3s 100ms/step - loss: 0.1370 - accuracy: 0.9504 - binary_crossentropy: 0.1370 - val_loss: 0.2416 - val_accuracy: 0.9049 - val_binary_crossentropy: 0.2416\n",
      "Epoch 59/100\n",
      "30/30 [==============================] - 3s 100ms/step - loss: 0.1144 - accuracy: 0.9515 - binary_crossentropy: 0.1144 - val_loss: 0.1032 - val_accuracy: 0.9597 - val_binary_crossentropy: 0.1032\n",
      "Epoch 60/100\n",
      "30/30 [==============================] - 3s 101ms/step - loss: 0.1368 - accuracy: 0.9499 - binary_crossentropy: 0.1368 - val_loss: 0.1065 - val_accuracy: 0.9568 - val_binary_crossentropy: 0.1065\n",
      "Epoch 61/100\n",
      "30/30 [==============================] - 3s 98ms/step - loss: 0.1330 - accuracy: 0.9499 - binary_crossentropy: 0.1330 - val_loss: 0.1840 - val_accuracy: 0.9308 - val_binary_crossentropy: 0.1840\n",
      "Epoch 62/100\n",
      "30/30 [==============================] - 3s 97ms/step - loss: 0.1245 - accuracy: 0.9488 - binary_crossentropy: 0.1245 - val_loss: 0.1017 - val_accuracy: 0.9597 - val_binary_crossentropy: 0.1017\n",
      "Epoch 63/100\n",
      "30/30 [==============================] - 3s 98ms/step - loss: 0.1370 - accuracy: 0.9531 - binary_crossentropy: 0.1370 - val_loss: 0.1313 - val_accuracy: 0.9539 - val_binary_crossentropy: 0.1313\n",
      "Epoch 64/100\n",
      "30/30 [==============================] - 3s 101ms/step - loss: 0.1036 - accuracy: 0.9656 - binary_crossentropy: 0.1036 - val_loss: 0.1245 - val_accuracy: 0.9568 - val_binary_crossentropy: 0.1245\n",
      "Epoch 65/100\n",
      "30/30 [==============================] - 3s 99ms/step - loss: 0.1232 - accuracy: 0.9599 - binary_crossentropy: 0.1232 - val_loss: 0.1040 - val_accuracy: 0.9568 - val_binary_crossentropy: 0.1040\n",
      "Epoch 66/100\n",
      "30/30 [==============================] - 3s 97ms/step - loss: 0.1228 - accuracy: 0.9499 - binary_crossentropy: 0.1228 - val_loss: 0.1101 - val_accuracy: 0.9625 - val_binary_crossentropy: 0.1101\n",
      "Epoch 67/100\n",
      "30/30 [==============================] - 3s 98ms/step - loss: 0.1104 - accuracy: 0.9657 - binary_crossentropy: 0.1104 - val_loss: 0.3409 - val_accuracy: 0.8847 - val_binary_crossentropy: 0.3409\n",
      "Epoch 68/100\n",
      "30/30 [==============================] - 3s 97ms/step - loss: 0.1356 - accuracy: 0.9436 - binary_crossentropy: 0.1356 - val_loss: 0.1090 - val_accuracy: 0.9654 - val_binary_crossentropy: 0.1090\n",
      "Epoch 69/100\n",
      "30/30 [==============================] - 3s 98ms/step - loss: 0.1141 - accuracy: 0.9626 - binary_crossentropy: 0.1141 - val_loss: 0.1396 - val_accuracy: 0.9424 - val_binary_crossentropy: 0.1396\n",
      "Epoch 70/100\n",
      "30/30 [==============================] - 3s 97ms/step - loss: 0.1304 - accuracy: 0.9494 - binary_crossentropy: 0.1304 - val_loss: 0.1849 - val_accuracy: 0.9366 - val_binary_crossentropy: 0.1849\n",
      "Epoch 71/100\n",
      "30/30 [==============================] - 3s 100ms/step - loss: 0.1131 - accuracy: 0.9546 - binary_crossentropy: 0.1131 - val_loss: 0.1186 - val_accuracy: 0.9568 - val_binary_crossentropy: 0.1186\n",
      "Epoch 72/100\n",
      "30/30 [==============================] - 3s 101ms/step - loss: 0.1230 - accuracy: 0.9483 - binary_crossentropy: 0.1230 - val_loss: 0.1114 - val_accuracy: 0.9568 - val_binary_crossentropy: 0.1114\n",
      "Epoch 73/100\n",
      "30/30 [==============================] - 3s 98ms/step - loss: 0.1145 - accuracy: 0.9594 - binary_crossentropy: 0.1145 - val_loss: 0.2342 - val_accuracy: 0.9193 - val_binary_crossentropy: 0.2342\n",
      "Epoch 74/100\n",
      "30/30 [==============================] - 3s 97ms/step - loss: 0.1051 - accuracy: 0.9599 - binary_crossentropy: 0.1051 - val_loss: 0.1091 - val_accuracy: 0.9568 - val_binary_crossentropy: 0.1091\n",
      "Epoch 75/100\n",
      "30/30 [==============================] - 3s 99ms/step - loss: 0.1257 - accuracy: 0.9552 - binary_crossentropy: 0.1257 - val_loss: 0.3749 - val_accuracy: 0.8818 - val_binary_crossentropy: 0.3749\n",
      "Epoch 76/100\n",
      "30/30 [==============================] - 3s 99ms/step - loss: 0.1252 - accuracy: 0.9500 - binary_crossentropy: 0.1252 - val_loss: 0.1497 - val_accuracy: 0.9452 - val_binary_crossentropy: 0.1497\n",
      "Epoch 77/100\n",
      "30/30 [==============================] - 3s 98ms/step - loss: 0.1213 - accuracy: 0.9578 - binary_crossentropy: 0.1213 - val_loss: 0.2017 - val_accuracy: 0.9308 - val_binary_crossentropy: 0.2017\n",
      "Epoch 78/100\n",
      "30/30 [==============================] - 3s 98ms/step - loss: 0.1139 - accuracy: 0.9578 - binary_crossentropy: 0.1139 - val_loss: 0.1879 - val_accuracy: 0.9366 - val_binary_crossentropy: 0.1879\n",
      "Epoch 79/100\n",
      "30/30 [==============================] - 3s 98ms/step - loss: 0.0993 - accuracy: 0.9589 - binary_crossentropy: 0.0993 - val_loss: 0.1163 - val_accuracy: 0.9568 - val_binary_crossentropy: 0.1163\n",
      "Epoch 80/100\n",
      "30/30 [==============================] - 3s 97ms/step - loss: 0.0950 - accuracy: 0.9620 - binary_crossentropy: 0.0950 - val_loss: 0.1259 - val_accuracy: 0.9481 - val_binary_crossentropy: 0.1259\n",
      "Epoch 81/100\n",
      "30/30 [==============================] - 3s 97ms/step - loss: 0.1123 - accuracy: 0.9562 - binary_crossentropy: 0.1123 - val_loss: 0.1276 - val_accuracy: 0.9539 - val_binary_crossentropy: 0.1276\n",
      "Epoch 82/100\n",
      "30/30 [==============================] - 3s 98ms/step - loss: 0.0953 - accuracy: 0.9647 - binary_crossentropy: 0.0953 - val_loss: 0.0773 - val_accuracy: 0.9741 - val_binary_crossentropy: 0.0773\n",
      "Epoch 83/100\n",
      "30/30 [==============================] - 3s 98ms/step - loss: 0.1099 - accuracy: 0.9583 - binary_crossentropy: 0.1099 - val_loss: 0.1177 - val_accuracy: 0.9539 - val_binary_crossentropy: 0.1177\n",
      "Epoch 84/100\n",
      "30/30 [==============================] - 3s 98ms/step - loss: 0.1045 - accuracy: 0.9636 - binary_crossentropy: 0.1045 - val_loss: 0.1341 - val_accuracy: 0.9481 - val_binary_crossentropy: 0.1341\n",
      "Epoch 85/100\n",
      "30/30 [==============================] - 3s 97ms/step - loss: 0.0978 - accuracy: 0.9662 - binary_crossentropy: 0.0978 - val_loss: 0.1029 - val_accuracy: 0.9481 - val_binary_crossentropy: 0.1029\n",
      "Epoch 86/100\n",
      "30/30 [==============================] - 3s 98ms/step - loss: 0.1068 - accuracy: 0.9610 - binary_crossentropy: 0.1068 - val_loss: 0.1140 - val_accuracy: 0.9625 - val_binary_crossentropy: 0.1140\n",
      "Epoch 87/100\n",
      "30/30 [==============================] - 3s 101ms/step - loss: 0.0941 - accuracy: 0.9673 - binary_crossentropy: 0.0941 - val_loss: 0.1087 - val_accuracy: 0.9597 - val_binary_crossentropy: 0.1087\n",
      "Epoch 88/100\n",
      "30/30 [==============================] - 3s 97ms/step - loss: 0.0973 - accuracy: 0.9684 - binary_crossentropy: 0.0973 - val_loss: 0.1823 - val_accuracy: 0.9395 - val_binary_crossentropy: 0.1823\n",
      "Epoch 89/100\n",
      "30/30 [==============================] - 3s 97ms/step - loss: 0.0919 - accuracy: 0.9662 - binary_crossentropy: 0.0919 - val_loss: 0.1669 - val_accuracy: 0.9193 - val_binary_crossentropy: 0.1669\n",
      "Epoch 90/100\n",
      "30/30 [==============================] - 3s 97ms/step - loss: 0.0968 - accuracy: 0.9599 - binary_crossentropy: 0.0968 - val_loss: 0.1507 - val_accuracy: 0.9424 - val_binary_crossentropy: 0.1507\n",
      "Epoch 91/100\n",
      "30/30 [==============================] - 3s 96ms/step - loss: 0.0889 - accuracy: 0.9689 - binary_crossentropy: 0.0889 - val_loss: 0.0948 - val_accuracy: 0.9654 - val_binary_crossentropy: 0.0948\n",
      "Epoch 92/100\n",
      "30/30 [==============================] - 3s 96ms/step - loss: 0.1099 - accuracy: 0.9662 - binary_crossentropy: 0.1099 - val_loss: 0.1123 - val_accuracy: 0.9481 - val_binary_crossentropy: 0.1123\n",
      "Epoch 93/100\n",
      "30/30 [==============================] - 3s 98ms/step - loss: 0.1120 - accuracy: 0.9573 - binary_crossentropy: 0.1120 - val_loss: 0.1052 - val_accuracy: 0.9539 - val_binary_crossentropy: 0.1052\n",
      "Epoch 94/100\n",
      "30/30 [==============================] - 3s 98ms/step - loss: 0.1009 - accuracy: 0.9604 - binary_crossentropy: 0.1009 - val_loss: 0.2120 - val_accuracy: 0.9251 - val_binary_crossentropy: 0.2120\n",
      "Epoch 95/100\n",
      "30/30 [==============================] - 3s 100ms/step - loss: 0.0956 - accuracy: 0.9668 - binary_crossentropy: 0.0956 - val_loss: 0.1114 - val_accuracy: 0.9683 - val_binary_crossentropy: 0.1114\n",
      "Epoch 96/100\n",
      "30/30 [==============================] - 3s 97ms/step - loss: 0.0879 - accuracy: 0.9694 - binary_crossentropy: 0.0879 - val_loss: 0.0980 - val_accuracy: 0.9654 - val_binary_crossentropy: 0.0980\n",
      "Epoch 97/100\n",
      "30/30 [==============================] - 3s 95ms/step - loss: 0.1009 - accuracy: 0.9652 - binary_crossentropy: 0.1009 - val_loss: 0.1437 - val_accuracy: 0.9597 - val_binary_crossentropy: 0.1437\n",
      "Epoch 98/100\n",
      "30/30 [==============================] - 3s 95ms/step - loss: 0.0860 - accuracy: 0.9657 - binary_crossentropy: 0.0860 - val_loss: 0.0918 - val_accuracy: 0.9654 - val_binary_crossentropy: 0.0918\n",
      "Epoch 99/100\n",
      "30/30 [==============================] - 3s 94ms/step - loss: 0.1018 - accuracy: 0.9631 - binary_crossentropy: 0.1018 - val_loss: 0.0949 - val_accuracy: 0.9654 - val_binary_crossentropy: 0.0949\n",
      "Epoch 100/100\n",
      "30/30 [==============================] - 3s 95ms/step - loss: 0.0838 - accuracy: 0.9694 - binary_crossentropy: 0.0838 - val_loss: 0.0911 - val_accuracy: 0.9625 - val_binary_crossentropy: 0.0911\n"
     ]
    }
   ],
   "source": [
    "# train the model\n",
    "H = model.fit(aug.flow(trainX, trainY, batch_size=batch_size),\n",
    "                        validation_data=(testX,testY),\n",
    "                        steps_per_epoch=len(trainX) // batch_size,\n",
    "                        epochs=epochs, verbose=1)\n"
   ]
  },
  {
   "cell_type": "code",
   "execution_count": 15,
   "metadata": {},
   "outputs": [
    {
     "data": {
      "text/plain": [
       "<matplotlib.legend.Legend at 0x1732245b0>"
      ]
     },
     "execution_count": 15,
     "metadata": {},
     "output_type": "execute_result"
    },
    {
     "data": {
      "image/png": "[encoded data removed]",
      "text/plain": [
       "<Figure size 864x576 with 1 Axes>"
      ]
     },
     "metadata": {},
     "output_type": "display_data"
    }
   ],
   "source": [
    "# plot training/validation loss/accuracy\n",
    "plt.style.use(\"ggplot\")\n",
    "plt.figure(figsize=(12, 8))\n",
    "N = epochs\n",
    "plt.plot(np.arange(0,N), H.history[\"loss\"], label=\"train_loss\")\n",
    "plt.plot(np.arange(0,N), H.history[\"val_loss\"], label=\"val_loss\")\n",
    "plt.plot(np.arange(0,N), H.history[\"accuracy\"], label=\"train_acc\")\n",
    "plt.plot(np.arange(0,N), H.history[\"val_accuracy\"], label=\"val_acc\")\n",
    "\n",
    "plt.ylim([0, 1.3])\n",
    "plt.title(\"Training Loss and Accuracy\")\n",
    "plt.xlabel(\"Epoch #\")\n",
    "plt.ylabel(\"Loss/Accuracy\")\n",
    "plt.legend(loc=\"upper right\")\n",
    "\n",
    "# save plot to disk\n",
    "#plt.savefig('plot.png')"
   ]
  },
  {
   "cell_type": "code",
   "execution_count": 16,
   "metadata": {},
   "outputs": [
    {
     "name": "stdout",
     "output_type": "stream",
     "text": [
      "11/11 [==============================] - 0s 13ms/step - loss: 0.0911 - accuracy: 0.9625 - binary_crossentropy: 0.0911\n"
     ]
    },
    {
     "data": {
      "text/plain": [
       "[0.09107766300439835, 0.962536096572876, 0.09107766300439835]"
      ]
     },
     "execution_count": 16,
     "metadata": {},
     "output_type": "execute_result"
    }
   ],
   "source": [
    "model.evaluate(testX, testY, verbose=1)"
   ]
  },
  {
   "cell_type": "code",
   "execution_count": 17,
   "metadata": {},
   "outputs": [
    {
     "name": "stderr",
     "output_type": "stream",
     "text": [
      "2022-05-12 00:35:52.756213: W tensorflow/python/util/util.cc:368] Sets are not currently considered sequences, but this may change in the future, so consider avoiding using them.\n"
     ]
    },
    {
     "name": "stdout",
     "output_type": "stream",
     "text": [
      "INFO:tensorflow:Assets written to: ram://d59f5e5b-3494-4e44-acdb-f7a3258e1b80/assets\n"
     ]
    }
   ],
   "source": [
    "import pickle\n",
    "from datetime import date\n",
    "\n",
    "pickle.dump(model, open('model.pkl', 'wb'))"
   ]
  },
  {
   "cell_type": "code",
   "execution_count": 14,
   "metadata": {},
   "outputs": [],
   "source": [
    "# real save by date\n",
    "import pickle\n",
    "from datetime import date\n",
    "\n",
    "#pickle.dump(model, open(f'model.pkl{date.today()}', 'wb'))"
   ]
  },
  {
   "cell_type": "code",
   "execution_count": null,
   "metadata": {},
   "outputs": [],
   "source": []
  }
 ],
 "metadata": {
  "interpreter": {
   "hash": "487c85ce4831d1779d4632c4e79e3388f49909a78f8e35441daf1f8e2755f971"
  },
  "kernelspec": {
   "display_name": "Python 3.10.0 ('lunettes')",
   "language": "python",
   "name": "python3"
  },
  "language_info": {
   "codemirror_mode": {
    "name": "ipython",
    "version": 3
   },
   "file_extension": ".py",
   "mimetype": "text/x-python",
   "name": "python",
   "nbconvert_exporter": "python",
   "pygments_lexer": "ipython3",
   "version": "3.9.12"
  },
  "orig_nbformat": 4
 },
 "nbformat": 4,
 "nbformat_minor": 2
}
